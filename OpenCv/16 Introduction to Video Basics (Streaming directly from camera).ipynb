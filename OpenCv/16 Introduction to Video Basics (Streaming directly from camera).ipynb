{
 "cells": [
  {
   "cell_type": "markdown",
   "id": "e938c8ea",
   "metadata": {},
   "source": [
    "# We are going to connect Camera to OpenCV"
   ]
  },
  {
   "cell_type": "code",
   "execution_count": 5,
   "id": "03625770",
   "metadata": {},
   "outputs": [
    {
     "name": "stderr",
     "output_type": "stream",
     "text": [
      "OpenCV: FFMPEG: tag 0x44495658/'XVID' is not supported with codec id 12 and format 'mp4 / MP4 (MPEG-4 Part 14)'\n",
      "OpenCV: FFMPEG: fallback to use tag 0x7634706d/'mp4v'\n"
     ]
    }
   ],
   "source": [
    "import cv2 \n",
    "\n",
    "# 0 is the default webcam \n",
    "cap = cv2.VideoCapture(0)\n",
    "\n",
    "# We can grab the width and height of the actual capture an manipulate video image\n",
    "\n",
    "#Most of the numbers will be in float so, we are converting it into int\n",
    "width = int(cap.get(cv2.CAP_PROP_FRAME_WIDTH))\n",
    "height = int(cap.get(cv2.CAP_PROP_FRAME_HEIGHT))\n",
    "\n",
    "# STORING THE VIDEO FILE\n",
    "# cv2.VideoWriter_fourcc(*'XVID') this is the type of storing the video in MacOS\n",
    "write_video = cv2.VideoWriter(\"/Users/baranidharan/Work Folder/Course Implements/OpenCV Course/mysupervideo.mp4\",cv2.VideoWriter_fourcc(*'XVID'),20,(width,height))\n",
    "\n",
    "# Display the image\n",
    "# All the frames in a video is series of image\n",
    "while True:\n",
    "    # ret, frame is Tuple unpacking\n",
    "    # this cap.read() is to grab the frame that is being captured\n",
    "    ret,frame = cap.read()\n",
    "    \n",
    "    write_video.write(frame)\n",
    "    \n",
    "    \n",
    "    \n",
    "    # Converting FRAME into ---> GRAY\n",
    "    \n",
    "    gray = cv2.cvtColor(frame,cv2.COLOR_BGR2GRAY)\n",
    "    cv2.imshow(\"frame\",gray)\n",
    "#      cv2.imshow(\"frame\",frame)\n",
    "    \n",
    "        \n",
    "    # If we want to close (We have done this before drawing in images) \n",
    "    #esc key\n",
    "    if cv2.waitKey(1) & 0xFF == 27:  \n",
    "    \n",
    "    #if cv2.waitKey(1) & 0xFF == ord(\"q\"): ----> this is for q key (If needed)\n",
    "        break\n",
    "\n",
    "# we should also see the capture button is released\n",
    "\n",
    "cap.release()\n",
    "write_video.release()\n",
    "cv2.destroyAllWindows()\n",
    "    \n",
    "    "
   ]
  },
  {
   "cell_type": "code",
   "execution_count": null,
   "id": "4b7f3275",
   "metadata": {},
   "outputs": [],
   "source": []
  }
 ],
 "metadata": {
  "kernelspec": {
   "display_name": "Python 3 (ipykernel)",
   "language": "python",
   "name": "python3"
  },
  "language_info": {
   "codemirror_mode": {
    "name": "ipython",
    "version": 3
   },
   "file_extension": ".py",
   "mimetype": "text/x-python",
   "name": "python",
   "nbconvert_exporter": "python",
   "pygments_lexer": "ipython3",
   "version": "3.9.13"
  }
 },
 "nbformat": 4,
 "nbformat_minor": 5
}
