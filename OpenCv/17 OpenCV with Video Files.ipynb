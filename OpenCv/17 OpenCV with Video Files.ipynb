{
 "cells": [
  {
   "cell_type": "code",
   "execution_count": null,
   "id": "88c7cfa0",
   "metadata": {},
   "outputs": [],
   "source": [
    "import cv2\n",
    "\n",
    "# Opening the existing video files\n",
    "cap = cv2.VideoCapture(\"/Users/baranidharan/Work Folder/Course Implements/OpenCV Course/mysupervideo.mp4\")\n",
    "\n",
    "if cap.isOpened() == False:\n",
    "    print(\"Error\")\n",
    "while cap.isOpened():\n",
    "    ret,frame = cap.read()\n",
    "    if ret == True:\n",
    "        \n",
    "        # We have recorded the above video in 20 FPS \n",
    "        time.sleep(1/20)\n",
    "        cv2.imshow(\"frame\",frame)\n",
    "        if cv2.waitKey(1) & 0xFF ==27:\n",
    "            break\n",
    "    else:\n",
    "        break\n",
    "\n",
    "cap.release()\n",
    "cv2.destroyAllWindows()"
   ]
  }
 ],
 "metadata": {
  "kernelspec": {
   "display_name": "Python 3 (ipykernel)",
   "language": "python",
   "name": "python3"
  },
  "language_info": {
   "codemirror_mode": {
    "name": "ipython",
    "version": 3
   },
   "file_extension": ".py",
   "mimetype": "text/x-python",
   "name": "python",
   "nbconvert_exporter": "python",
   "pygments_lexer": "ipython3",
   "version": "3.9.13"
  }
 },
 "nbformat": 4,
 "nbformat_minor": 5
}
