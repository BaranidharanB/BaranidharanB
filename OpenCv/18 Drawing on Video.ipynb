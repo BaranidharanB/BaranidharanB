{
 "cells": [
  {
   "cell_type": "code",
   "execution_count": 1,
   "id": "eded8948",
   "metadata": {},
   "outputs": [],
   "source": [
    "import cv2\n",
    "\n",
    "cap = cv2.VideoCapture (0)\n",
    "\n",
    "width = int(cap.get(cv2.CAP_PROP_FRAME_WIDTH))\n",
    "height = int (cap.get(cv2.CAP_PROP_FRAME_HEIGHT))\n",
    "\n",
    "#We are going to the 1st and 2nd point of the rectangle\n",
    "\n",
    "# We are using // because if we use / to divide eg: 10/5 = 2.0 ( we are getting in float)\n",
    "# if we // to divide we'll get in integer\n",
    "\n",
    "x = width //2\n",
    "y =  height //2 \n",
    "\n",
    "# Width and height of the Rectangle \n",
    "\n",
    "w = width // 4\n",
    "h = height // 4\n",
    "\n",
    "# BOTTOM RIGHT CORNER x + w, y + h\n",
    "\n",
    "# Drawing a Rectangle\n",
    "\n",
    "while True:\n",
    "    ret,frame = cap.read()\n",
    "    \n",
    "    cv2.rectangle(frame,(x,y),(x + w, y + h),color = (0,0,255),thickness = 4)\n",
    "    \n",
    "    cv2.imshow(\"frame\",frame)\n",
    "    \n",
    "    if cv2.waitKey(1) & 0xFF == 27:\n",
    "        break\n",
    "\n",
    "cap.release()\n",
    "cv2.destroyAllWindows()\n"
   ]
  },
  {
   "cell_type": "markdown",
   "id": "f3a90777",
   "metadata": {},
   "source": [
    "# Overview of what we have done\n",
    "1. We are capturing the video\n",
    "2. We're grabbing the width and height of the actual video\n",
    "3. We decided to set teh top left corner at the middle point of the width and height of rectangle\n",
    "4. Drawing a rectangle and showing it."
   ]
  }
 ],
 "metadata": {
  "kernelspec": {
   "display_name": "Python 3 (ipykernel)",
   "language": "python",
   "name": "python3"
  },
  "language_info": {
   "codemirror_mode": {
    "name": "ipython",
    "version": 3
   },
   "file_extension": ".py",
   "mimetype": "text/x-python",
   "name": "python",
   "nbconvert_exporter": "python",
   "pygments_lexer": "ipython3",
   "version": "3.9.13"
  }
 },
 "nbformat": 4,
 "nbformat_minor": 5
}
