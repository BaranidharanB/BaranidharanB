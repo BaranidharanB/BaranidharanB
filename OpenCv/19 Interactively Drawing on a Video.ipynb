{
 "cells": [
  {
   "cell_type": "code",
   "execution_count": 3,
   "id": "37d0895d",
   "metadata": {},
   "outputs": [],
   "source": [
    "import cv2 \n",
    "\n",
    "# CALL BACK FUNCTION RECTANGLE\n",
    "\n",
    "def draw_rect(event,x,y,flags,param): \n",
    "\n",
    "    global pt1,pt2,topleft_clicked, botright_clicked\n",
    "    \n",
    "    if event == cv2.EVENT_LBUTTONDOWN:\n",
    "        \n",
    "        # Reset or Erase the rectangle (It checks if the Rectangle is there)\n",
    "        if topleft_clicked == True and botright_clicked == True:\n",
    "            pt1 = (0,0)\n",
    "            pt2 = (0,0)\n",
    "            topleft_clicked = False\n",
    "            topright_clicked = False\n",
    "        \n",
    "        if topleft_clicked == False:\n",
    "            pt1 = (x,y)\n",
    "            topleft_clicked = True\n",
    "        \n",
    "        elif botright_clicked == False:\n",
    "            pt2 = (x,y)\n",
    "            botright_clicked = True\n",
    "            \n",
    "\n",
    "# GLOBAL VARIABLE\n",
    "\n",
    "pt1 = (0,0)\n",
    "pt2 = (0,0)\n",
    "\n",
    "# initially it will be false once its clicked changes to True and starts drawing\n",
    "topleft_clicked = False\n",
    "topright_clicked = False\n",
    "\n",
    "\n",
    "# CONNECT WITH CALL BACK FUNCTION\n",
    "cap = cv2.VideoCapture(0)\n",
    "cv2.namedWindow(\"Test\")\n",
    "cv2.setMouseCallback(\"test\",draw_rect)\n",
    "\n",
    "while True:\n",
    "    ret,frame = cap.read()\n",
    "    \n",
    "    #DRAWING ON THE FRAME BASED ON THE GLOBAL VARIABLES\n",
    "    \n",
    "    # Drawing a pointer circle on the click\n",
    "    if topleft_clicked==True:\n",
    "        cv2.circle(frame,center=pt1,radius=5,color=(255,0,0),thickness=-1)\n",
    "    \n",
    "    # Drawing the rectangle\n",
    "    if topleft_clicked and botright_clicked:\n",
    "        cv2.rectangle(frame,pt1,pt2,(0,0,255),3)\n",
    "    \n",
    "    cv2.imshow(\"test\",frame)\n",
    "    if cv2.waitKey(1) & 0xFF == 27:\n",
    "        break\n",
    "\n",
    "cap.release()\n",
    "cv2.destroyAllWindows()\n",
    "\n",
    "        "
   ]
  },
  {
   "cell_type": "markdown",
   "id": "1687323a",
   "metadata": {},
   "source": [
    "# Over Review\n",
    "\n",
    "1. Set the callback function \n",
    "2. Check for the Logical operation with these variables \n",
    "3. Assigning the Global Variables\n",
    "4. Based on the Global variable we can draw on the frame as we want"
   ]
  }
 ],
 "metadata": {
  "kernelspec": {
   "display_name": "Python 3 (ipykernel)",
   "language": "python",
   "name": "python3"
  },
  "language_info": {
   "codemirror_mode": {
    "name": "ipython",
    "version": 3
   },
   "file_extension": ".py",
   "mimetype": "text/x-python",
   "name": "python",
   "nbconvert_exporter": "python",
   "pygments_lexer": "ipython3",
   "version": "3.9.13"
  }
 },
 "nbformat": 4,
 "nbformat_minor": 5
}
