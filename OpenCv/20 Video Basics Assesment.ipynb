{
 "cells": [
  {
   "cell_type": "markdown",
   "id": "fcdd9f18",
   "metadata": {},
   "source": [
    "# Assesment\n",
    "Draw a circle while clicking in the video"
   ]
  },
  {
   "cell_type": "code",
   "execution_count": 1,
   "id": "0b604ff6",
   "metadata": {},
   "outputs": [],
   "source": [
    "import cv2\n",
    "\n",
    "def draw_circle(event,x,y,flags,param):\n",
    "    global center, clicked\n",
    "    \n",
    "    if event == cv2.EVENT_LBUTTONDOWN:\n",
    "        center = (x,y)\n",
    "        clicked = False\n",
    "        \n",
    "    if event == cv2.EVENT_LBUTTONUP:\n",
    "        clicked = True\n",
    "    \n",
    "center = (0,0)\n",
    "clicked = False\n",
    "\n",
    "# Capture the video \n",
    "cap = cv2.VideoCapture(0)\n",
    "\n",
    "# Creating a named window for connection\n",
    "\n",
    "cv2.namedWindow(\"Test\")\n",
    "\n",
    "# Bind draw_circle function to mouse clicks\n",
    "\n",
    "cv2.setMouseCallback (\"test\",draw_circle)\n",
    "        \n",
    "     \n",
    "        \n",
    "while True:\n",
    "    # Capture Frame-by-Frame\n",
    "    ret, frame = cap.read()\n",
    "    \n",
    "    # To see if something is clicked\n",
    "    \n",
    "    if clicked:\n",
    "        cv2.circle(frame,center=center,radius=50,color=(255,0,0),thickness=5)\n",
    "    \n",
    "    # Displying the resulting frame\n",
    "    cv2.imshow(\"Test\",frame)\n",
    "    \n",
    "    if cv2.waitKey(1) & 0xFF == 27:\n",
    "        break\n",
    "\n",
    "cap.release()\n",
    "cv2.destroyAllWindows()\n",
    "\n",
    "\n",
    "#EVENT_LBUTTONUP"
   ]
  },
  {
   "cell_type": "code",
   "execution_count": null,
   "id": "0a406ce0",
   "metadata": {},
   "outputs": [],
   "source": []
  }
 ],
 "metadata": {
  "kernelspec": {
   "display_name": "Python 3 (ipykernel)",
   "language": "python",
   "name": "python3"
  },
  "language_info": {
   "codemirror_mode": {
    "name": "ipython",
    "version": 3
   },
   "file_extension": ".py",
   "mimetype": "text/x-python",
   "name": "python",
   "nbconvert_exporter": "python",
   "pygments_lexer": "ipython3",
   "version": "3.9.13"
  }
 },
 "nbformat": 4,
 "nbformat_minor": 5
}
