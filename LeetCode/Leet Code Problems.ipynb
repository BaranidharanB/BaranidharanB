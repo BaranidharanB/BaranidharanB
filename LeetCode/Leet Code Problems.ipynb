{
 "cells": [
  {
   "cell_type": "markdown",
   "id": "3422cc1f",
   "metadata": {},
   "source": [
    "# 1. Two Sum\n",
    "Given an array of integers nums and an integer target, return indices of the two numbers such that they add up to target.\n",
    "You may assume that each input would have exactly one solution, and you may not use the same element twice.\n",
    "You can return the answer in any order.\n",
    "\n",
    "Example 1:\n",
    "Input: nums = [2,7,11,15], target = 9\n",
    "Output: [0,1]\n",
    "Explanation: Because nums[0] + nums[1] == 9, we return [0, 1].\n",
    "\n",
    "Example 2:\n",
    "Input: nums = [3,2,4], target = 6\n",
    "Output: [1,2]"
   ]
  },
  {
   "cell_type": "code",
   "execution_count": null,
   "id": "24828d0f",
   "metadata": {},
   "outputs": [],
   "source": [
    "class Solution:\n",
    "    def twoSum(self, nums: List[int], target: int) -> List[int]:\n",
    "        dict = {}\n",
    "        for i in range(0,len(nums)):\n",
    "            value =  nums[i]\n",
    "            difference = target - value\n",
    "            if value not in dict:\n",
    "                 dict[difference]  = i \n",
    "            else:\n",
    "                cur_i = i\n",
    "                prev_i=dict[value]\n",
    "                return [cur_i,prev_i]"
   ]
  },
  {
   "cell_type": "markdown",
   "id": "fa94e00f",
   "metadata": {},
   "source": [
    "# 9. Palindrome Number\n",
    "Given an integer x, return true if x is a \n",
    "palindrome and false otherwise.\n",
    "\n",
    "Example 1:\n",
    "Input: x = 121\n",
    "Output: true\n",
    "Explanation: 121 reads as 121 from left to right and from right to left."
   ]
  },
  {
   "cell_type": "code",
   "execution_count": null,
   "id": "4d824b3a",
   "metadata": {},
   "outputs": [],
   "source": [
    "# Solution \n",
    "class Solution:\n",
    "    def isPalindrome(self, x: int) -> bool:\n",
    "        #condition for -ve value\n",
    "        if x < 0: return False\n",
    "        #converting as a string \n",
    "        st_x = str(x)\n",
    "        #assigning the index value \n",
    "        left = 0\n",
    "        right = len(st_x)-1\n",
    "        #checking the condition\n",
    "        while left<=right:\n",
    "            # if the left = right then the increament and decrement takes place\n",
    "            if st_x[left]==st_x[right]:\n",
    "                left = left+1 #left+=1\n",
    "                right = right-1 #right-=1\n",
    "            else:\n",
    "                return False\n",
    "        return True"
   ]
  },
  {
   "cell_type": "markdown",
   "id": "3ea62db2",
   "metadata": {},
   "source": [
    "# 13. Roman to Integer \n",
    "\n",
    "Easy\n",
    "8.6K\n",
    "495\n",
    "Companies\n",
    "Roman numerals are represented by seven different symbols: I, V, X, L, C, D and M.\n",
    "\n",
    "Symbol       Value\n",
    "I             1\n",
    "V             5\n",
    "X             10\n",
    "L             50\n",
    "C             100\n",
    "D             500\n",
    "M             1000\n",
    "For example, 2 is written as II in Roman numeral, just two ones added together. 12 is written as XII, which is simply X + II. The number 27 is written as XXVII, which is XX + V + II.\n",
    "\n",
    "Roman numerals are usually written largest to smallest from left to right. However, the numeral for four is not IIII. Instead, the number four is written as IV. Because the one is before the five we subtract it making four. The same principle applies to the number nine, which is written as IX. There are six instances where subtraction is used:\n",
    "\n",
    "I can be placed before V (5) and X (10) to make 4 and 9. \n",
    "X can be placed before L (50) and C (100) to make 40 and 90. \n",
    "C can be placed before D (500) and M (1000) to make 400 and 900.\n",
    "Given a roman numeral, convert it to an integer.\n",
    "\n",
    "Example 1:\n",
    "\n",
    "Input: s = \"III\"\n",
    "Output: 3\n",
    "Explanation: III = 3.\n",
    "Example 2:\n",
    "\n",
    "Input: s = \"LVIII\"\n",
    "Output: 58\n",
    "Explanation: L = 50, V= 5, III = 3.\n",
    "\n"
   ]
  },
  {
   "cell_type": "code",
   "execution_count": null,
   "id": "2a5626ec",
   "metadata": {},
   "outputs": [],
   "source": [
    "# Solution\n",
    "class Solution:\n",
    "    def romanToInt(self, s: str) -> int:\n",
    "        dic = {\"I\":1, \"V\":5, \"X\":10, \"L\":50, \"C\":100, \"D\":500, \"M\":1000}\n",
    "        total = 0\n",
    "        prev = 0\n",
    "        curr = 0\n",
    "\n",
    "        for i in range(len(s)):\n",
    "            curr = dic[s[i]]\n",
    "            if curr > prev:\n",
    "                total = total + curr - 2*prev\n",
    "            else:\n",
    "                total = total + curr\n",
    "            prev = curr\n",
    "        return total\n"
   ]
  }
 ],
 "metadata": {
  "kernelspec": {
   "display_name": "Python 3 (ipykernel)",
   "language": "python",
   "name": "python3"
  },
  "language_info": {
   "codemirror_mode": {
    "name": "ipython",
    "version": 3
   },
   "file_extension": ".py",
   "mimetype": "text/x-python",
   "name": "python",
   "nbconvert_exporter": "python",
   "pygments_lexer": "ipython3",
   "version": "3.9.13"
  }
 },
 "nbformat": 4,
 "nbformat_minor": 5
}
